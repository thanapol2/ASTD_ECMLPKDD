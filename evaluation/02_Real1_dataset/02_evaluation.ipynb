{
 "cells": [
  {
   "cell_type": "code",
   "execution_count": 1,
   "id": "initial_id",
   "metadata": {
    "collapsed": true,
    "ExecuteTime": {
     "end_time": "2024-03-18T00:33:39.202454Z",
     "start_time": "2024-03-18T00:33:37.253500Z"
    }
   },
   "outputs": [],
   "source": [
    "import os\n",
    "import numpy as np\n",
    "import pandas as pd\n",
    "import glob\n",
    "import json\n",
    "from scipy import stats\n",
    "import matplotlib.pyplot as plt\n",
    "import sklearn.metrics as metric\n",
    "from tqdm.notebook import tqdm\n",
    "import src.online_decomposition.slidingSTL as slidingSTL     # STL in online mode (SlidingSTL)\n",
    "import src.online_decomposition.ASTD as ASTD\n",
    "import src.utilities.utility_stl as utility_stl\n",
    "import statsmodels.api as sm"
   ]
  },
  {
   "cell_type": "markdown",
   "source": [
    "## Prepare data"
   ],
   "metadata": {
    "collapsed": false
   },
   "id": "fbc54400e77368a3"
  },
  {
   "cell_type": "code",
   "execution_count": 2,
   "outputs": [],
   "source": [
    "FOLDER_DATASET = os.path.expanduser(\"~/source_code/SSTD_PKDD/dataset/02_Real1_datasets\")\n",
    "json_files = glob.glob(os.path.join(FOLDER_DATASET,'*.json'))\n",
    "\n",
    "bounds_other = np.array([0.70, 0.80, 0.9, 1, 1.10, 1.20, 1.30])\n",
    "bound_lynx = np.array([7, 8, 9, 10, 11, 12, 13])\n",
    "\n",
    "results = [] # all results"
   ],
   "metadata": {
    "collapsed": false,
    "ExecuteTime": {
     "end_time": "2024-03-18T00:33:39.206809Z",
     "start_time": "2024-03-18T00:33:39.205975Z"
    }
   },
   "id": "6890f2955dad66b1"
  },
  {
   "cell_type": "raw",
   "source": [
    "## SlidingSTL"
   ],
   "metadata": {
    "collapsed": false
   },
   "id": "67c7410c36cd5a26"
  },
  {
   "cell_type": "code",
   "execution_count": 8,
   "outputs": [
    {
     "name": "stdout",
     "output_type": "stream",
     "text": [
      "/Users/thanapolphungtua-eng/source_code/SSTD_PKDD/dataset/02_Real1_datasets/04_fma_lynx.json _ 10\n",
      "/Users/thanapolphungtua-eng/source_code/SSTD_PKDD/dataset/02_Real1_datasets/03_co2.json _ 12\n",
      "/Users/thanapolphungtua-eng/source_code/SSTD_PKDD/dataset/02_Real1_datasets/02_WalkJogRun2.json _ 80\n",
      "/Users/thanapolphungtua-eng/source_code/SSTD_PKDD/dataset/02_Real1_datasets/01_WalkJogRun1.json _ 80\n",
      "/Users/thanapolphungtua-eng/source_code/SSTD_PKDD/dataset/02_Real1_datasets/05_SOI_index.json _ 60\n",
      "/Users/thanapolphungtua-eng/source_code/SSTD_PKDD/dataset/02_Real1_datasets/06_sunspots.json _ 132\n"
     ]
    }
   ],
   "source": [
    "for json_file in json_files:\n",
    "    with open(json_file) as f:\n",
    "        json_data = json.load(f)\n",
    "    \n",
    "    ts_data = np.array(json_data['ts'])\n",
    "    ts_data = utility_stl.Znormalization(ts_data)\n",
    "    ans_season_length = max(json_data['main_length'])\n",
    "    \n",
    "    if 'lynx' in os.path.basename(json_file):\n",
    "        season_lengths = bound_lynx\n",
    "        bounds = np.array([0.70, 0.80, 0.9, 1, 1.10, 1.20, 1.30])\n",
    "    else:\n",
    "        season_lengths = np.round(bounds_other * ans_season_length)\n",
    "        bounds = bounds_other\n",
    "    file_name = os.path.basename(json_file).replace('.json','')\n",
    "    pbar = tqdm(total=len(season_lengths), desc=f\"file_name\")\n",
    "    for season_length,bound in zip(season_lengths,bounds):\n",
    "        season_length = int(season_length)\n",
    "        ts_offline_phase = np.array(ts_data[:season_length * 5])\n",
    "        ts_online_phase = np.array(ts_data[season_length * 5:])\n",
    "        \n",
    "        core_slidingSTL = slidingSTL.slidingSTL(max_season_length=season_length, max_cycles =5)\n",
    "        slidingSTL_trend, slidingSTL_seasonal, slidingSTL_residual = core_slidingSTL.initialize_phase(ts_offline_phase)\n",
    "        \n",
    "        for y_t in ts_online_phase:\n",
    "            t_t, s_t, r_t = core_slidingSTL.online_update(y_t)\n",
    "            slidingSTL_trend = np.append(slidingSTL_trend, t_t)\n",
    "            slidingSTL_seasonal = np.append(slidingSTL_seasonal, s_t)\n",
    "            slidingSTL_residual = np.append(slidingSTL_residual, r_t)\n",
    "        \n",
    "        \n",
    "        \"\"\"\n",
    "        OneShotSTL cannot export trend, seasonal, and residual components of the initialization phase. We must compute data that are processed in the online phase only for fair comparisons.\n",
    "        The initialization phase of OneShotSTL require data with 5 * season length.\n",
    "        \"\"\"\n",
    "        \n",
    "        trend = slidingSTL_trend[5 * season_length:]\n",
    "        seasonal = slidingSTL_seasonal[5 * season_length:]\n",
    "        residual = slidingSTL_residual[5 * season_length:]\n",
    "        \n",
    "        trend_smooth = utility_stl.calculate_smoothness(slidingSTL_trend)\n",
    "        \"\"\"\n",
    "        Number of lags to use in the Ljung-Box test is min(2m, n/5), where n is the length of the series, and m is the seasonal period of the data. (Forecasting: Principles and Practice 2nd))\n",
    "        \"\"\"\n",
    "        randomness = sm.stats.acorr_ljungbox(slidingSTL_residual,\n",
    "                                                 lags=[min(2 * season_length, round(len(slidingSTL_residual) / 5))],return_df=True)\n",
    "        lb_stat = randomness.iloc[0]['lb_stat']\n",
    "        \"\"\"\n",
    "        Kruskal–Wallis test is the second test for stable seasonality [1].\n",
    "        References\n",
    "        [1] Bee Dagum, E., Bianconcini, S. (2016). Linear Filters Seasonal Adjustment Methods: Census Method II and Its Variants. In: Seasonal Adjustment Methods and Real Time Trend-Cycle Estimation. Statistics for Social and Behavioral Sciences. Springer, Cham. https://doi.org/10.1007/978-3-319-31822-6_4\n",
    "        \"\"\"\n",
    "        \n",
    "        sub_seasonalities = [[seasonal[i] for i in range(j, len(seasonal), season_length)] for j in range(season_length)]\n",
    "\n",
    "        kruskal_test = stats.kruskal(*sub_seasonalities)\n",
    "        kruskal_pvalue = kruskal_test[1]\n",
    "        results.append({'algorithm': 'slidingSTL',\n",
    "                    'dataset': os.path.basename(json_file),\n",
    "                    'bound': bound,\n",
    "                    'trend_smooth': trend_smooth,\n",
    "                    'seasonality_presence': kruskal_pvalue,\n",
    "                    'randomness': lb_stat})\n",
    "        \n",
    "        "
   ],
   "metadata": {
    "collapsed": false,
    "ExecuteTime": {
     "start_time": "2024-03-18T00:40:47.191936Z"
    }
   },
   "id": "eafa8c254d90485b"
  },
  {
   "cell_type": "code",
   "execution_count": null,
   "outputs": [],
   "source": [],
   "metadata": {
    "collapsed": false
   },
   "id": "4f0aaa4c5a90331c"
  }
 ],
 "metadata": {
  "kernelspec": {
   "display_name": "Python 3",
   "language": "python",
   "name": "python3"
  },
  "language_info": {
   "codemirror_mode": {
    "name": "ipython",
    "version": 2
   },
   "file_extension": ".py",
   "mimetype": "text/x-python",
   "name": "python",
   "nbconvert_exporter": "python",
   "pygments_lexer": "ipython2",
   "version": "2.7.6"
  }
 },
 "nbformat": 4,
 "nbformat_minor": 5
}
