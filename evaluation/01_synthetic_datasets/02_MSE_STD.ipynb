{
 "cells": [
  {
   "cell_type": "code",
   "execution_count": null,
   "id": "bd81a94d",
   "metadata": {},
   "outputs": [],
   "source": [
    "import numpy as np\n",
    "import pandas as pd\n",
    "import matplotlib.pyplot as plt\n",
    "import sklearn.metrics as metric\n",
    "from tqdm.notebook import tqdm\n",
    "from statsmodels.tsa.seasonal import STL                     # STL in offline mode\n",
    "import src.online_decomposition.slidingSTL as slidingSTL     # STL in online mode (SlidingSTL)\n",
    "import src.online_decomposition.ASTD as ASTD\n",
    "import src.utilities.gen_synthetic as gen_syn\n"
   ]
  },
  {
   "cell_type": "markdown",
   "id": "6fe227ef",
   "metadata": {},
   "source": [
    "## Prepare data"
   ]
  },
  {
   "cell_type": "code",
   "execution_count": null,
   "id": "81ead376",
   "metadata": {},
   "outputs": [],
   "source": [
    "syn1 = gen_syn.generate_syn1(is_export = False)\n",
    "syn2 = gen_syn.generate_syn2(is_export = False)\n",
    "\n",
    "results = []            # all results\n",
    "season_lengths = np.arange(38, 160, 7)\n",
    "datasets = [syn1, syn2]"
   ]
  },
  {
   "cell_type": "markdown",
   "id": "286210a7",
   "metadata": {},
   "source": [
    "## Reproduction for STL (offline mode)\n"
   ]
  },
  {
   "cell_type": "code",
   "execution_count": null,
   "id": "e68a08cc",
   "metadata": {},
   "outputs": [],
   "source": [
    "\"\"\"\n",
    "    OneShotSTL cannot export trend, seasonal, and residual components of the initialization phase. We must compute data that are processed in the online phase only for fair comparisons.\n",
    "    The initialization phase of OneShotSTL require data with 5 * season length.\n",
    "\"\"\"\n",
    "pbar = tqdm(total=(len(datasets)*len(season_lengths)))\n",
    "for season_length in season_lengths:\n",
    "    trend_mse = []\n",
    "    seasonal_mse = []\n",
    "    residual_mse = []\n",
    "    for dataset in datasets:\n",
    "        stl_results = STL(dataset['ts'], period=season_length, robust=True).fit()\n",
    "        trend_mse.append(metric.mean_squared_error(dataset['trend'][5 * season_length:],\n",
    "                                              stl_results.trend[5 * season_length:]))\n",
    "        seasonal_mse.append(metric.mean_squared_error(dataset['seasonal'][5 * season_length:],\n",
    "                                                 stl_results.seasonal[5 * season_length:]))\n",
    "        residual_mse.append(metric.mean_squared_error(dataset['residual'][5 * season_length:],\n",
    "                                                 stl_results.resid[5 * season_length:]))\n",
    "        pbar.update(1)\n",
    "    results.append({'algorithm': 'STL',\n",
    "                    'season_length': season_length,\n",
    "                    'trend_mse': sum(trend_mse)/len(datasets),\n",
    "                    'seasonal_mse': sum(seasonal_mse)/len(datasets),\n",
    "                    'residual_mse': sum(residual_mse)/len(datasets)})\n",
    "pbar.close()"
   ]
  },
  {
   "cell_type": "markdown",
   "id": "bad02cab",
   "metadata": {},
   "source": [
    "## Reproduction for SlidingSTL"
   ]
  },
  {
   "cell_type": "code",
   "execution_count": null,
   "id": "8a0a42a4",
   "metadata": {
    "is_executing": true
   },
   "outputs": [],
   "source": [
    "pbar = tqdm(total=(len(datasets)*len(season_lengths)))\n",
    "for season_length in season_lengths:\n",
    "    trend_mse = []\n",
    "    seasonal_mse = []\n",
    "    residual_mse = []\n",
    "    for dataset in datasets:\n",
    "        ts_offline_phase = np.array(dataset['ts'][:season_length * 5])\n",
    "        ts_online_phase = np.array(dataset['ts'][season_length * 5:])\n",
    "        \n",
    "        core_slidingSTL = slidingSTL.slidingSTL(max_season_length=season_length, max_cycles =5)\n",
    "        slidingSTL_trend, slidingSTL_seasonal, slidingSTL_residual = core_slidingSTL.initialize_phase(ts_offline_phase)\n",
    "\n",
    "        for y_t in ts_online_phase:\n",
    "            t_t, s_t, r_t = core_slidingSTL.online_update(y_t)\n",
    "            slidingSTL_trend = np.append(slidingSTL_trend, t_t)\n",
    "            slidingSTL_seasonal = np.append(slidingSTL_seasonal, s_t)\n",
    "            slidingSTL_residual = np.append(slidingSTL_residual, r_t)\n",
    "            \n",
    "        trend_mse.append(metric.mean_squared_error(dataset['trend'][5 * season_length:],slidingSTL_trend[5 * season_length:]))\n",
    "        seasonal_mse.append(metric.mean_squared_error(dataset['seasonal'][5 * season_length:],slidingSTL_seasonal[5 * season_length:]))\n",
    "        residual_mse.append(metric.mean_squared_error(dataset['residual'][5 * season_length:],slidingSTL_residual[5 * season_length:]))\n",
    "            \n",
    "        pbar.update(1)\n",
    "    \n",
    "    results.append({'algorithm': 'slidingSTL',\n",
    "                    'season_length': season_length,\n",
    "                    'trend_mse': sum(trend_mse)/len(datasets),\n",
    "                    'seasonal_mse': sum(seasonal_mse)/len(datasets),\n",
    "                    'residual_mse': sum(residual_mse)/len(datasets)})\n",
    "    \n",
    "pbar.close()"
   ]
  },
  {
   "cell_type": "raw",
   "id": "8fd34229",
   "metadata": {},
   "source": [
    "## Reproduction for ASTD"
   ]
  },
  {
   "cell_type": "code",
   "execution_count": null,
   "id": "b6868151",
   "metadata": {
    "is_executing": true
   },
   "outputs": [],
   "source": [
    "window_size = 300\n",
    "trend_results = []\n",
    "seasonal_results = []\n",
    "residual_results = []\n",
    "for dataset in datasets:\n",
    "    ts_offline_phase = dataset['ts'][:window_size]\n",
    "    ts_online_phase = dataset['ts'][window_size:]\n",
    "\n",
    "    core_STL = ASTD.ASTD(window_size=window_size, seasonality_smoothing=0.7)\n",
    "\n",
    "    # initialize phase\n",
    "    ASTD_trend, ASDT_seasonal, ASTD_residual = core_STL.initialization_phase(ts_offline_phase)\n",
    "\n",
    "    # Online updating phase\n",
    "    with tqdm(total=len(ts_online_phase), desc=\"ASTD (Online phase)\") as pbar:\n",
    "        for y_t in ts_online_phase:\n",
    "            t_t, s_t, r_t = core_STL.update_phase(y_t)\n",
    "            ASTD_trend = np.append(ASTD_trend, t_t)\n",
    "            ASDT_seasonal = np.append(ASDT_seasonal, s_t)\n",
    "            ASTD_residual = np.append(ASTD_residual, r_t)\n",
    "            \n",
    "            pbar.update(1)\n",
    "\n",
    "    trend_results.append(ASTD_trend)\n",
    "    seasonal_results.append(ASDT_seasonal)\n",
    "    residual_results.append(ASTD_residual)\n",
    "\n",
    "for season_length in season_lengths:\n",
    "    trend_mse = []\n",
    "    seasonal_mse = [] \n",
    "    residual_mse = []\n",
    "    for i in range(len(datasets)):\n",
    "        trend_mse.append(metric.mean_squared_error(datasets[i]['trend'][5 * season_length:],trend_results[i][5 * season_length:]))\n",
    "        seasonal_mse.append(metric.mean_squared_error(datasets[i]['seasonal'][5 * season_length:],seasonal_results[i][5 * season_length:]))\n",
    "        residual_mse.append(metric.mean_squared_error(datasets[i]['residual'][5 * season_length:],residual_results[i][5 * season_length:]))\n",
    "        \n",
    "    results.append({'algorithm': 'ASTD',\n",
    "                    'season_length': season_length,\n",
    "                    'trend_mse': sum(trend_mse)/len(datasets),\n",
    "                    'seasonal_mse': sum(seasonal_mse)/len(datasets),\n",
    "                    'residual_mse': sum(residual_mse)/len(datasets)})"
   ]
  },
  {
   "cell_type": "markdown",
   "id": "57858f8c",
   "metadata": {},
   "source": [
    "## plot Fig6a (trend MSE)"
   ]
  },
  {
   "cell_type": "code",
   "execution_count": null,
   "id": "83f8eb58",
   "metadata": {
    "is_executing": true
   },
   "outputs": [],
   "source": [
    "df = pd.DataFrame(results)\n",
    "\n",
    "algorithms = ['STL', 'slidingSTL', 'ASTD']\n",
    "colors = ['aqua', 'brown', 'blue']\n",
    "\n",
    "plt.figure(figsize=(10, 6))\n",
    "\n",
    "for algorithm, color in zip(algorithms, colors):\n",
    "    subset = df[df['algorithm'] == algorithm]\n",
    "    plt.plot(subset['season_length'], subset['trend_mse'], linestyle='-', color=color, label=algorithm)\n",
    "\n",
    "plt.title('Trend (MSE) (Fig6a)', fontsize=16)\n",
    "plt.xlabel('Season length', fontsize=14)\n",
    "plt.ylabel('Trend (MSE)', fontsize=14) \n",
    "plt.xticks(rotation=45)\n",
    "plt.legend(title='Algorithm')\n",
    "plt.ylim(0,1.8)\n",
    "plt.tight_layout()\n",
    "plt.show()"
   ]
  },
  {
   "cell_type": "markdown",
   "id": "831d6d9d",
   "metadata": {},
   "source": [
    "## plot Fig6b (seasonal MSE)"
   ]
  },
  {
   "cell_type": "code",
   "execution_count": null,
   "id": "c897f367",
   "metadata": {
    "is_executing": true
   },
   "outputs": [],
   "source": [
    "plt.figure(figsize=(10, 6))\n",
    "\n",
    "for algorithm, color in zip(algorithms, colors):\n",
    "    subset = df[df['algorithm'] == algorithm]\n",
    "    plt.plot(subset['season_length'], subset['seasonal_mse'], linestyle='-', color=color, label=algorithm)\n",
    "\n",
    "plt.title('Seasonal (MSE) (Fig6b)', fontsize=16)\n",
    "plt.xlabel('Season length', fontsize=14)\n",
    "plt.ylabel('Seasonal (MSE)', fontsize=14) \n",
    "plt.xticks(rotation=45)\n",
    "plt.ylim(0,1.8)\n",
    "plt.legend(title='Algorithm')\n",
    "plt.tight_layout()\n",
    "plt.show()"
   ]
  },
  {
   "cell_type": "markdown",
   "id": "9e04670b",
   "metadata": {},
   "source": [
    "## plot Fig6c (residual MSE)"
   ]
  },
  {
   "cell_type": "code",
   "execution_count": null,
   "id": "4661ef6c",
   "metadata": {
    "is_executing": true
   },
   "outputs": [],
   "source": [
    "plt.figure(figsize=(10, 6))\n",
    "\n",
    "for algorithm, color in zip(algorithms, colors):\n",
    "    subset = df[df['algorithm'] == algorithm]\n",
    "    plt.plot(subset['season_length'], subset['residual_mse'], linestyle='-', color=color, label=algorithm)\n",
    "\n",
    "plt.title('Residual (MSE) (Fig6c)', fontsize=16)\n",
    "plt.xlabel('Season length', fontsize=14)\n",
    "plt.ylabel('Residual (MSE)', fontsize=14) \n",
    "plt.xticks(rotation=45)\n",
    "plt.legend(title='Algorithm')\n",
    "plt.tight_layout()\n",
    "plt.ylim(0,0.6)\n",
    "plt.show()"
   ]
  },
  {
   "cell_type": "raw",
   "source": [
    "## Syn3"
   ],
   "metadata": {
    "collapsed": false
   },
   "id": "4d5e1ba3f91ad75a"
  },
  {
   "cell_type": "code",
   "execution_count": null,
   "outputs": [],
   "source": [
    "syn3 = gen_syn.generate_syn3(is_export = False)\n",
    "\n",
    "results_syn3 = []            # all results\n",
    "season_lengths = np.arange(38, 160, 7)\n",
    "datasets = [syn3]"
   ],
   "metadata": {
    "collapsed": false,
    "is_executing": true
   },
   "id": "90b366f3"
  },
  {
   "cell_type": "markdown",
   "source": [
    "## Reproduction for STL (offline mode)"
   ],
   "metadata": {
    "collapsed": false
   },
   "id": "cbd59ec017f73310"
  },
  {
   "cell_type": "code",
   "execution_count": null,
   "outputs": [],
   "source": [
    "\"\"\"\n",
    "    OneShotSTL cannot export trend, seasonal, and residual components of the initialization phase. We must compute data that are processed in the online phase only for fair comparisons.\n",
    "    The initialization phase of OneShotSTL require data with 5 * season length.\n",
    "\"\"\"\n",
    "pbar = tqdm(total=(len(datasets)*len(season_lengths)))\n",
    "for season_length in season_lengths:\n",
    "    trend_mse = []\n",
    "    seasonal_mse = []\n",
    "    residual_mse = []\n",
    "    for dataset in datasets:\n",
    "        stl_results = STL(dataset['ts'], period=season_length, robust=True).fit()\n",
    "        trend_mse.append(metric.mean_squared_error(dataset['trend'][5 * season_length:],\n",
    "                                              stl_results.trend[5 * season_length:]))\n",
    "        seasonal_mse.append(metric.mean_squared_error(dataset['seasonal'][5 * season_length:],\n",
    "                                                 stl_results.seasonal[5 * season_length:]))\n",
    "        residual_mse.append(metric.mean_squared_error(dataset['residual'][5 * season_length:],\n",
    "                                                 stl_results.resid[5 * season_length:]))\n",
    "        pbar.update(1)\n",
    "    results_syn3.append({'algorithm': 'STL',\n",
    "                    'season_length': season_length,\n",
    "                    'trend_mse': sum(trend_mse)/len(datasets),\n",
    "                    'seasonal_mse': sum(seasonal_mse)/len(datasets),\n",
    "                    'residual_mse': sum(residual_mse)/len(datasets)})\n",
    "pbar.close()"
   ],
   "metadata": {
    "collapsed": false,
    "is_executing": true
   },
   "id": "f3d53cb678cb42df"
  },
  {
   "cell_type": "markdown",
   "source": [
    "##SlidingSTL"
   ],
   "metadata": {
    "collapsed": false
   },
   "id": "a8a78504783c4d18"
  },
  {
   "cell_type": "code",
   "execution_count": null,
   "outputs": [],
   "source": [
    "pbar = tqdm(total=(len(datasets)*len(season_lengths)))\n",
    "for season_length in season_lengths:\n",
    "    trend_mse = []\n",
    "    seasonal_mse = []\n",
    "    residual_mse = []\n",
    "    for dataset in datasets:\n",
    "        ts_offline_phase = np.array(dataset['ts'][:season_length * 5])\n",
    "        ts_online_phase = np.array(dataset['ts'][season_length * 5:])\n",
    "        \n",
    "        core_slidingSTL = slidingSTL.slidingSTL(max_season_length=season_length, max_cycles =5)\n",
    "        slidingSTL_trend, slidingSTL_seasonal, slidingSTL_residual = core_slidingSTL.initialize_phase(ts_offline_phase)\n",
    "\n",
    "        for y_t in ts_online_phase:\n",
    "            t_t, s_t, r_t = core_slidingSTL.online_update(y_t)\n",
    "            slidingSTL_trend = np.append(slidingSTL_trend, t_t)\n",
    "            slidingSTL_seasonal = np.append(slidingSTL_seasonal, s_t)\n",
    "            slidingSTL_residual = np.append(slidingSTL_residual, r_t)\n",
    "            \n",
    "        trend_mse.append(metric.mean_squared_error(dataset['trend'][5 * season_length:],slidingSTL_trend[5 * season_length:]))\n",
    "        seasonal_mse.append(metric.mean_squared_error(dataset['seasonal'][5 * season_length:],slidingSTL_seasonal[5 * season_length:]))\n",
    "        residual_mse.append(metric.mean_squared_error(dataset['residual'][5 * season_length:],slidingSTL_residual[5 * season_length:]))\n",
    "            \n",
    "        pbar.update(1)\n",
    "    \n",
    "    results.append({'algorithm': 'slidingSTL',\n",
    "                    'season_length': season_length,\n",
    "                    'trend_mse': sum(trend_mse)/len(datasets),\n",
    "                    'seasonal_mse': sum(seasonal_mse)/len(datasets),\n",
    "                    'residual_mse': sum(residual_mse)/len(datasets)})\n",
    "    \n",
    "pbar.close()"
   ],
   "metadata": {
    "collapsed": false,
    "is_executing": true
   },
   "id": "e8f3e315cb650112"
  },
  {
   "cell_type": "markdown",
   "source": [
    "## Reproduction for ASTD"
   ],
   "metadata": {
    "collapsed": false
   },
   "id": "2dbfdf7af9627095"
  },
  {
   "cell_type": "code",
   "execution_count": null,
   "outputs": [],
   "source": [
    "window_size = 300\n",
    "trend_results = []\n",
    "seasonal_results = []\n",
    "residual_results = []\n",
    "for dataset in datasets:\n",
    "    ts_offline_phase = dataset['ts'][:window_size]\n",
    "    ts_online_phase = dataset['ts'][window_size:]\n",
    "\n",
    "    core_STL = ASTD.ASTD(window_size=window_size, seasonality_smoothing=0.7)\n",
    "\n",
    "    # initialize phase\n",
    "    ASTD_trend, ASDT_seasonal, ASTD_residual = core_STL.initialization_phase(ts_offline_phase)\n",
    "\n",
    "    # Online updating phase\n",
    "    with tqdm(total=len(ts_online_phase), desc=\"ASTD (Online phase)\") as pbar:\n",
    "        for y_t in ts_online_phase:\n",
    "            t_t, s_t, r_t = core_STL.update_phase(y_t)\n",
    "            ASTD_trend = np.append(ASTD_trend, t_t)\n",
    "            ASDT_seasonal = np.append(ASDT_seasonal, s_t)\n",
    "            ASTD_residual = np.append(ASTD_residual, r_t)\n",
    "            \n",
    "            pbar.update(1)\n",
    "\n",
    "    trend_results.append(ASTD_trend)\n",
    "    seasonal_results.append(ASDT_seasonal)\n",
    "    residual_results.append(ASTD_residual)\n",
    "\n",
    "for season_length in season_lengths:\n",
    "    trend_mse = []\n",
    "    seasonal_mse = [] \n",
    "    residual_mse = []\n",
    "    for i in range(len(datasets)):\n",
    "        trend_mse.append(metric.mean_squared_error(datasets[i]['trend'][5 * season_length:],trend_results[i][5 * season_length:]))\n",
    "        seasonal_mse.append(metric.mean_squared_error(datasets[i]['seasonal'][5 * season_length:],seasonal_results[i][5 * season_length:]))\n",
    "        residual_mse.append(metric.mean_squared_error(datasets[i]['residual'][5 * season_length:],residual_results[i][5 * season_length:]))\n",
    "        \n",
    "    results_syn3.append({'algorithm': 'ASTD',\n",
    "                    'season_length': season_length,\n",
    "                    'trend_mse': sum(trend_mse)/len(datasets),\n",
    "                    'seasonal_mse': sum(seasonal_mse)/len(datasets),\n",
    "                    'residual_mse': sum(residual_mse)/len(datasets)})"
   ],
   "metadata": {
    "collapsed": false,
    "is_executing": true
   },
   "id": "e56600d912e8794"
  },
  {
   "cell_type": "code",
   "execution_count": null,
   "outputs": [],
   "source": [
    "df = pd.DataFrame(results)\n",
    "\n",
    "algorithms = ['STL', 'slidingSTL', 'ASTD']\n",
    "colors = ['aqua', 'brown', 'blue']\n",
    "\n",
    "plt.figure(figsize=(10, 6))\n",
    "\n",
    "for algorithm, color in zip(algorithms, colors):\n",
    "    subset = df[df['algorithm'] == algorithm]\n",
    "    plt.plot(subset['season_length'], subset['trend_mse'], linestyle='-', color=color, label=algorithm)\n",
    "\n",
    "plt.title('Trend (MSE) (Fig6d)', fontsize=16)\n",
    "plt.xlabel('Season length', fontsize=14)\n",
    "plt.ylabel('Trend (MSE)', fontsize=14) \n",
    "plt.xticks(rotation=45)\n",
    "plt.legend(title='Algorithm')\n",
    "plt.ylim(0,4.2)\n",
    "plt.tight_layout()\n",
    "plt.show()"
   ],
   "metadata": {
    "collapsed": false,
    "is_executing": true
   },
   "id": "51d9f711e8df6cf1"
  },
  {
   "cell_type": "code",
   "execution_count": null,
   "outputs": [],
   "source": [
    "plt.figure(figsize=(10, 6))\n",
    "\n",
    "for algorithm, color in zip(algorithms, colors):\n",
    "    subset = df[df['algorithm'] == algorithm]\n",
    "    plt.plot(subset['season_length'], subset['seasonal_mse'], linestyle='-', color=color, label=algorithm)\n",
    "\n",
    "plt.title('Seasonal (MSE) (Fig6e)', fontsize=16)\n",
    "plt.xlabel('Season length', fontsize=14)\n",
    "plt.ylabel('Seasonal (MSE)', fontsize=14) \n",
    "plt.xticks(rotation=45)\n",
    "plt.ylim(0,4.5)\n",
    "plt.legend(title='Algorithm')\n",
    "plt.tight_layout()\n",
    "plt.show()"
   ],
   "metadata": {
    "collapsed": false,
    "is_executing": true
   },
   "id": "1205044c011e00ee"
  },
  {
   "cell_type": "code",
   "execution_count": null,
   "outputs": [],
   "source": [
    "plt.figure(figsize=(10, 6))\n",
    "\n",
    "for algorithm, color in zip(algorithms, colors):\n",
    "    subset = df[df['algorithm'] == algorithm]\n",
    "    plt.plot(subset['season_length'], subset['residual_mse'], linestyle='-', color=color, label=algorithm)\n",
    "\n",
    "plt.title('Residual (MSE) (Fig6f)', fontsize=16)\n",
    "plt.xlabel('Season length', fontsize=14)\n",
    "plt.ylabel('Residual (MSE)', fontsize=14) \n",
    "plt.xticks(rotation=45)\n",
    "plt.legend(title='Algorithm')\n",
    "plt.tight_layout()\n",
    "plt.ylim(0,1.6)\n",
    "plt.show()"
   ],
   "metadata": {
    "collapsed": false,
    "is_executing": true
   },
   "id": "defd9d82df88f663"
  },
  {
   "cell_type": "code",
   "execution_count": null,
   "outputs": [],
   "source": [],
   "metadata": {
    "collapsed": false,
    "is_executing": true
   },
   "id": "1594099001e20211"
  }
 ],
 "metadata": {
  "kernelspec": {
   "display_name": "Python 3 (ipykernel)",
   "language": "python",
   "name": "python3"
  },
  "language_info": {
   "codemirror_mode": {
    "name": "ipython",
    "version": 3
   },
   "file_extension": ".py",
   "mimetype": "text/x-python",
   "name": "python",
   "nbconvert_exporter": "python",
   "pygments_lexer": "ipython3",
   "version": "3.10.4"
  }
 },
 "nbformat": 4,
 "nbformat_minor": 5
}
